{
 "cells": [
  {
   "cell_type": "markdown",
   "metadata": {
    "id": "3UcXfBW_fpVK"
   },
   "source": [
    "# Module 2: Data Engineering: Pandas\n",
    "\n",
    "In this notebook, basics of using Pandas in Python Notebooks (in Jupyter) will be introduced.  For you to be able to use the notebooks, you need to be able to have the environment to run the notebooks.  Several options are as follows:\n",
    "- [**Jupyter**](https://test-jupyter.readthedocs.io/en/latest/install.html) : download and install Python and Jupyter in your workstation.  This does not require internet to run\n",
    "- [**Google Colab**](https://colab.research.google.com/notebooks/intro.ipynb) : upload the notebook to Google Colab, along with the data needed.  This requires internet connection to be continuously used.  GDrive needs to be set-up as a mounted memory to where you can upload or download data and results.  This means it requires a Google Account to be logged-in.\n",
    "- [**CoCalc**](https://cocalc.com/features/jupyter-notebook) : upload the notebook to Google Colab, along with the data needed.  This requires internet connection to be continuously used.  The files tab allows you to easily upload or download data during the running session.  No pre-requirement for any account, just a persistent internet connection to remain in the currest workings session.\n",
    "\n",
    "Instructions on how to install are linked above for reference."
   ]
  },
  {
   "cell_type": "markdown",
   "metadata": {},
   "source": [
    "## Check if file uploaded exists"
   ]
  },
  {
   "cell_type": "code",
   "execution_count": null,
   "metadata": {},
   "outputs": [],
   "source": [
    "import os\n",
    "\n",
    "## File path is where the data you have uploaded is located within your work area\n",
    "file_path = './data/transactions/movie_metadata.csv'"
   ]
  },
  {
   "cell_type": "code",
   "execution_count": null,
   "metadata": {},
   "outputs": [],
   "source": [
    "## Note: this should be True before you can proceed to the next stem\n",
    "os.path.exists(file_path)"
   ]
  },
  {
   "cell_type": "markdown",
   "metadata": {
    "id": "D0yOXX5vfpWX"
   },
   "source": [
    "## Enter Pandas"
   ]
  },
  {
   "cell_type": "code",
   "execution_count": null,
   "metadata": {
    "id": "P6muMxgnfpWX"
   },
   "outputs": [],
   "source": [
    "'''\n",
    "pandas library: fast, powerful, flexible and easy to use open source data analysis and manipulation tool\n",
    "library: collections of prewritten code that users can use to optimize tasks.\n",
    "'''\n",
    "import pandas as pd"
   ]
  },
  {
   "cell_type": "code",
   "execution_count": null,
   "metadata": {},
   "outputs": [],
   "source": [
    "data = pd.read_csv(\"./data/transactions/movie_metadata.csv\")"
   ]
  },
  {
   "cell_type": "code",
   "execution_count": null,
   "metadata": {
    "id": "B54q3bYmfpWY",
    "outputId": "c8b3791b-43dc-4f43-8bc0-c989054ebf4f"
   },
   "outputs": [],
   "source": [
    "data.shape"
   ]
  },
  {
   "cell_type": "code",
   "execution_count": null,
   "metadata": {
    "id": "x8fmv9wSfpWY",
    "outputId": "80b37c02-80c1-4d1e-d2a9-be64ee8eea14"
   },
   "outputs": [],
   "source": [
    "data.columns"
   ]
  },
  {
   "cell_type": "markdown",
   "metadata": {
    "id": "0bKWiQAqfpWY"
   },
   "source": [
    "## Slicing data frames"
   ]
  },
  {
   "cell_type": "code",
   "execution_count": null,
   "metadata": {
    "id": "NR5pJXp7fpWY",
    "outputId": "4f0a69d4-f09b-4640-884e-cc6d867c93b7"
   },
   "outputs": [],
   "source": [
    "data[:4]"
   ]
  },
  {
   "cell_type": "markdown",
   "metadata": {
    "id": "XqDqLGmOfpWZ"
   },
   "source": [
    "## Indexing Columns"
   ]
  },
  {
   "cell_type": "code",
   "execution_count": null,
   "metadata": {
    "id": "byl1M9KXfpWZ",
    "outputId": "5124099d-c056-4f5e-b98e-a646a4bb6bbe"
   },
   "outputs": [],
   "source": [
    "data.director_name[:4]"
   ]
  },
  {
   "cell_type": "code",
   "execution_count": null,
   "metadata": {
    "id": "U5StGHA4fpWZ",
    "outputId": "c0387ec7-e1b6-4ed0-95a3-b902c848c1f1"
   },
   "outputs": [],
   "source": [
    "data.director_name[19]"
   ]
  },
  {
   "cell_type": "code",
   "execution_count": null,
   "metadata": {
    "id": "VA_3mwl-fpWa",
    "outputId": "3b844026-bd1f-4e37-8815-f9c2d8ec4d44"
   },
   "outputs": [],
   "source": [
    "data.actor_1_name[49]"
   ]
  },
  {
   "cell_type": "code",
   "execution_count": null,
   "metadata": {
    "id": "9e8H7f7AfpWa",
    "outputId": "3891566e-a09f-4d9d-99b8-ea06860ca68a"
   },
   "outputs": [],
   "source": [
    "cols = [\"movie_title\",\"director_name\"]\n",
    "data[cols][:5]"
   ]
  },
  {
   "cell_type": "markdown",
   "metadata": {},
   "source": [
    "## Exercise: isolate only movie title, director name, imdb rating, year"
   ]
  },
  {
   "cell_type": "code",
   "execution_count": null,
   "metadata": {},
   "outputs": [],
   "source": []
  },
  {
   "cell_type": "markdown",
   "metadata": {
    "id": "BdOvXDOEfpWa"
   },
   "source": [
    "## Indexing Rows"
   ]
  },
  {
   "cell_type": "code",
   "execution_count": null,
   "metadata": {
    "id": "DvXnZNxZfpWb",
    "outputId": "bd78a6a7-495c-444d-8ab1-3740d2ca8e2f"
   },
   "outputs": [],
   "source": [
    "data.iloc[10:12]"
   ]
  },
  {
   "cell_type": "markdown",
   "metadata": {
    "id": "4ssZs9w5fpWb"
   },
   "source": [
    "## Find Movies by James Cameron"
   ]
  },
  {
   "cell_type": "code",
   "execution_count": null,
   "metadata": {
    "id": "dZLFSmvkfpWb",
    "outputId": "a497b9be-0388-4f5d-f7f7-6d087e0ebb59",
    "scrolled": false
   },
   "outputs": [],
   "source": [
    "data[data.director_name == 'James Cameron']"
   ]
  },
  {
   "cell_type": "markdown",
   "metadata": {},
   "source": [
    "## Exercise: Find movies by Zack Snyder"
   ]
  },
  {
   "cell_type": "code",
   "execution_count": null,
   "metadata": {},
   "outputs": [],
   "source": []
  },
  {
   "cell_type": "markdown",
   "metadata": {
    "id": "10rDTPxQfpWb"
   },
   "source": [
    "## Sort films by gross earnings"
   ]
  },
  {
   "cell_type": "code",
   "execution_count": null,
   "metadata": {
    "id": "bJ6vitjUfpWb",
    "outputId": "55b77e22-9cb3-4d83-8cb2-a793e190380c",
    "scrolled": true
   },
   "outputs": [],
   "source": [
    "sorted_data = data.sort_values(by=\"gross\", ascending=False)\n",
    "sorted_data[:5]"
   ]
  },
  {
   "cell_type": "code",
   "execution_count": null,
   "metadata": {},
   "outputs": [],
   "source": [
    "## Sort filems by rating\n",
    "sorted_data = data.sort_values(by=\"imdb_score\", ascending=False)\n",
    "sorted_data[:5]"
   ]
  },
  {
   "cell_type": "markdown",
   "metadata": {
    "id": "VXqd3UGWfpWc"
   },
   "source": [
    "## Exercise: Get the top 5 films of Michael Bay"
   ]
  },
  {
   "cell_type": "code",
   "execution_count": null,
   "metadata": {
    "id": "L2zr9XN4fpWc",
    "outputId": "6d80c3e5-3e43-4b62-c426-1c8c28436ce8"
   },
   "outputs": [],
   "source": []
  },
  {
   "cell_type": "markdown",
   "metadata": {
    "id": "pvBxZy48fpWc"
   },
   "source": [
    "## Multiple Conditions: Find films from the Canada that have Hugh Jackman as the actor_1_name"
   ]
  },
  {
   "cell_type": "code",
   "execution_count": null,
   "metadata": {
    "id": "xN_EFGOhfpWc",
    "outputId": "76fcc544-3874-49c3-fb77-2b61a01f736e"
   },
   "outputs": [],
   "source": [
    "data[(data['country'] == 'Canada') & (data['actor_1_name'] == 'Hugh Jackman')]"
   ]
  },
  {
   "cell_type": "markdown",
   "metadata": {
    "id": "NlmDUZNufpWc"
   },
   "source": [
    "## Exercise: Find the actor who is the actor_1_name for the movie that grossed exactly 67344392. Then, find films whose actor_3_name is Piolo Pascual and actor_1_name is the person from Armageddon."
   ]
  },
  {
   "cell_type": "code",
   "execution_count": null,
   "metadata": {
    "id": "MPkoAcmBfpWd",
    "outputId": "acf2097e-7f81-4332-a380-dc3c050ef435"
   },
   "outputs": [],
   "source": [
    "## Find the actor who is the actor_1_name for the movie that grossed exactly 67344392"
   ]
  },
  {
   "cell_type": "code",
   "execution_count": null,
   "metadata": {
    "id": "IQC1EVOFfpWd",
    "outputId": "f2f37f94-f38f-4c91-e26a-43ef1f6f5bf8"
   },
   "outputs": [],
   "source": [
    "## Find films whose actor_3_name is Piolo Pascual"
   ]
  },
  {
   "cell_type": "code",
   "execution_count": null,
   "metadata": {
    "id": "kA9rJxLZfpWd",
    "outputId": "f166c7e4-c992-4d2e-aaba-472e11e019eb"
   },
   "outputs": [],
   "source": [
    "## Find a movie with the title Armageddon"
   ]
  },
  {
   "cell_type": "code",
   "execution_count": 1,
   "metadata": {
    "id": "c-szyhZMfpWd",
    "outputId": "7538d4b3-362d-46d7-8508-2df67446b259"
   },
   "outputs": [],
   "source": [
    "## Find a movie with the 'term' Armageddon\n",
    "## Check or search for function: str.contains()"
   ]
  },
  {
   "cell_type": "code",
   "execution_count": null,
   "metadata": {
    "id": "wqkPaMTQfpWe",
    "outputId": "34dd89bd-0584-4605-8773-48c29656c36b"
   },
   "outputs": [],
   "source": []
  },
  {
   "cell_type": "markdown",
   "metadata": {
    "id": "EXkmZKXpfpWe"
   },
   "source": [
    "# Preprocessing"
   ]
  },
  {
   "cell_type": "code",
   "execution_count": null,
   "metadata": {
    "id": "yzCcAlFKfpWe",
    "outputId": "95d4a6b9-2023-41d2-d247-78e2e58acdd8"
   },
   "outputs": [],
   "source": [
    "data.dtypes"
   ]
  },
  {
   "cell_type": "markdown",
   "metadata": {
    "id": "8_85HgcNfpWe"
   },
   "source": [
    "## Convert actor_1_facebook_likes to integers"
   ]
  },
  {
   "cell_type": "code",
   "execution_count": null,
   "metadata": {},
   "outputs": [],
   "source": []
  },
  {
   "cell_type": "code",
   "execution_count": null,
   "metadata": {
    "id": "UH-vDoRwfpWf"
   },
   "outputs": [],
   "source": [
    "# will have an error\n",
    "#data.actor_1_facebook_likes.astype(np.int64)"
   ]
  },
  {
   "cell_type": "code",
   "execution_count": null,
   "metadata": {
    "id": "2kcKnmY8fpWf",
    "outputId": "eb10861b-e05e-4bb8-a782-25c664112128"
   },
   "outputs": [],
   "source": [
    "data['actor_1_facebook_likes'] = data['actor_1_facebook_likes'].fillna(0)\n",
    "data['actor_1_facebook_likes'] = data['actor_1_facebook_likes'].astype(np.int64)\n",
    "data.dtypes"
   ]
  },
  {
   "cell_type": "markdown",
   "metadata": {
    "id": "fVYhvXZ3fpWf"
   },
   "source": [
    "## Apply function for each cell\n",
    "Actually, one can think of a lambda as a nameless function."
   ]
  },
  {
   "cell_type": "code",
   "execution_count": null,
   "metadata": {
    "id": "Az2CYM_ifpWf",
    "outputId": "0aed0587-31ee-4004-fa1f-199f36e56515"
   },
   "outputs": [],
   "source": [
    "data.actor_1_facebook_likes.apply(lambda x: np.sqrt(x))[:5]"
   ]
  },
  {
   "cell_type": "markdown",
   "metadata": {
    "id": "qvFId213fpWf"
   },
   "source": [
    "## Clean titles\n"
   ]
  },
  {
   "cell_type": "code",
   "execution_count": null,
   "metadata": {
    "id": "70uWR4b7fpWg",
    "outputId": "5a467afb-812c-41bf-bac8-4ce6bb7067ae"
   },
   "outputs": [],
   "source": [
    "data.movie_title.tolist()[:5]"
   ]
  },
  {
   "cell_type": "code",
   "execution_count": null,
   "metadata": {
    "id": "HkQTO9SnfpWg",
    "outputId": "63bb9c47-6743-4c06-ed4e-99a7912dd72a"
   },
   "outputs": [],
   "source": [
    "data.movie_title[:10].apply(\n",
    "    lambda x: x.encode().decode('unicode_escape').encode('ascii','ignore')).tolist()"
   ]
  },
  {
   "cell_type": "code",
   "execution_count": null,
   "metadata": {
    "id": "cz0pKvPTfpWg",
    "outputId": "05645e15-e656-4e58-e993-cf57fe7b19c5"
   },
   "outputs": [],
   "source": [
    "# a weakness though is that it removes enye\n",
    "print(data[data.movie_title.str.contains(\"ñ\")][\"movie_title\"])\n",
    "print(\"The following removed the enye:\")\n",
    "print(data[data.movie_title.str.contains(\"ñ\")][\"movie_title\"].apply(\n",
    "    lambda x: x.encode().decode('unicode_escape').encode('ascii','ignore')).tolist())"
   ]
  },
  {
   "cell_type": "code",
   "execution_count": null,
   "metadata": {
    "id": "Ylkoon9PfpWg"
   },
   "outputs": [],
   "source": [
    "data[\"movie_title\"] = data[\"movie_title\"].apply(\n",
    "    lambda x: x.encode().decode('unicode_escape').encode('ascii','ignore'))"
   ]
  },
  {
   "cell_type": "markdown",
   "metadata": {
    "id": "hMK4jt8cfpWh"
   },
   "source": [
    "## Clean all\n",
    "\n",
    "Replace values with 0. Of course, imputation could be done here, but other libraries are need for it.\n",
    "\n",
    "We are adding a new reference to the original data. Only the new cells are allocated memory. The unchanged cells are referenced to the original."
   ]
  },
  {
   "cell_type": "code",
   "execution_count": null,
   "metadata": {
    "id": "9iH3f5N2fpWh"
   },
   "outputs": [],
   "source": [
    "cleaned_data = data.fillna(0)"
   ]
  },
  {
   "cell_type": "markdown",
   "metadata": {
    "id": "FPrChUPdfpWh"
   },
   "source": [
    "## Data Summaries"
   ]
  },
  {
   "cell_type": "code",
   "execution_count": null,
   "metadata": {
    "id": "epNoTOmLfpWh",
    "outputId": "4f2cb8f9-e8a3-4e22-e814-906e75f518a7"
   },
   "outputs": [],
   "source": [
    "cleaned_data.describe()"
   ]
  },
  {
   "cell_type": "markdown",
   "metadata": {
    "id": "W5XGILPpfpWi"
   },
   "source": [
    "## Data Correlations"
   ]
  },
  {
   "cell_type": "code",
   "execution_count": null,
   "metadata": {
    "id": "rhF_iODFfpWi",
    "outputId": "cd593bfa-c22b-42a5-c937-885e43039606"
   },
   "outputs": [],
   "source": [
    "cleaned_data.corr()"
   ]
  },
  {
   "cell_type": "markdown",
   "metadata": {
    "id": "FgQTUKUOfpWi"
   },
   "source": [
    "## Outliers : Clipping to the 99th percentile\n",
    "This is just one of the many rules-of-thumb used in practice. It doesn't always work, especially if one has too many outliers."
   ]
  },
  {
   "cell_type": "code",
   "execution_count": null,
   "metadata": {
    "id": "GQAAy7STfpWi",
    "outputId": "b341baac-d4f5-42e7-da3c-2190026d54df"
   },
   "outputs": [],
   "source": [
    "cleaned_data.duration.quantile(0.99)"
   ]
  },
  {
   "cell_type": "code",
   "execution_count": null,
   "metadata": {
    "id": "qgnfAg5xfpWi",
    "outputId": "bca15056-1770-4d68-c85b-c6320e0c0b1b",
    "scrolled": true
   },
   "outputs": [],
   "source": [
    "cleaned_data['duration'] = np.clip(cleaned_data['duration'], 0, 189)\n",
    "cleaned_data.describe()"
   ]
  },
  {
   "cell_type": "markdown",
   "metadata": {
    "id": "SFAQmjLCfpWj"
   },
   "source": [
    "## Output to CSV file"
   ]
  },
  {
   "cell_type": "code",
   "execution_count": null,
   "metadata": {
    "id": "gi94P218fpWj"
   },
   "outputs": [],
   "source": [
    "cleaned_data.to_csv('movie_metadata_cleaned.csv')"
   ]
  },
  {
   "cell_type": "markdown",
   "metadata": {
    "id": "gZnJZaxSfpWj"
   },
   "source": [
    "# Aggregations\n",
    "In this example, the group by statement does two things:\n",
    "\n",
    "1) groups together the dataframe by title_year\n",
    "\n",
    "2) the size() function has the title_year as the index"
   ]
  },
  {
   "cell_type": "code",
   "execution_count": null,
   "metadata": {
    "id": "kLlNth5lfpWk",
    "outputId": "03778826-9cb9-45c8-db1b-c0be744e1b9d"
   },
   "outputs": [],
   "source": [
    "cleaned_data[\"title_year\"] = cleaned_data[\"title_year\"].astype(np.int64)\n",
    "movies_per_year = cleaned_data.groupby(\"title_year\").size()\n",
    "movies_per_year[-5:]"
   ]
  },
  {
   "cell_type": "code",
   "execution_count": null,
   "metadata": {
    "id": "moMNrwwIfpWk",
    "outputId": "055f8999-46be-4fd1-ecbd-458acf6b8285",
    "scrolled": true
   },
   "outputs": [],
   "source": [
    "like_per_year = cleaned_data.groupby(\"title_year\")[\"movie_facebook_likes\"].mean()\n",
    "like_per_year[-5:]"
   ]
  },
  {
   "cell_type": "markdown",
   "metadata": {
    "id": "-EA0VsGafpWk"
   },
   "source": [
    "# Data Visualization\n",
    "## Matplotlib: Line Plot : Average Facebook Likes per Year\n",
    "Plot takes in as the first parameter the x axis and the second, the y axis values.\n",
    "\n",
    "plt.figure(figsize=(15,8)) is just the size of the plot."
   ]
  },
  {
   "cell_type": "code",
   "execution_count": null,
   "metadata": {
    "id": "prteK-T9fpWk"
   },
   "outputs": [],
   "source": [
    "# we're preempting seaborn for a better look-and-feel of the plots\n",
    "import seaborn as sns\n",
    "import matplotlib.pyplot as plt"
   ]
  },
  {
   "cell_type": "code",
   "execution_count": null,
   "metadata": {
    "id": "wamn8k3wfpWk",
    "outputId": "93aea8c2-c177-401b-8d70-62b63795db11"
   },
   "outputs": [],
   "source": [
    "fig = plt.figure(figsize=(15,8))\n",
    "years = like_per_year.index.tolist()[1:]\n",
    "likes = like_per_year[1:]\n",
    "plt.plot(years, likes, 'r-')\n",
    "plt.savefig('lineplot.png')\n",
    "plt.show()"
   ]
  },
  {
   "cell_type": "code",
   "execution_count": null,
   "metadata": {
    "id": "p3itgpXrfpWl",
    "outputId": "8a99bd1e-1745-4d79-9650-04f8b32f8390"
   },
   "outputs": [],
   "source": [
    "plt.savefig('lineplot.png')"
   ]
  },
  {
   "cell_type": "markdown",
   "metadata": {
    "id": "0auQDu9MfpWl"
   },
   "source": [
    "## Matplotlib: Scatterplot : Gross VS Budget"
   ]
  },
  {
   "cell_type": "code",
   "execution_count": null,
   "metadata": {
    "id": "UO2MwHTkfpWl",
    "outputId": "fe2e76a5-ae92-4290-c0c8-f402ed7450a6"
   },
   "outputs": [],
   "source": [
    "fig = plt.figure(figsize=(15,8))\n",
    "plt.scatter(cleaned_data[\"gross\"], cleaned_data[\"budget\"])\n",
    "plt.show()"
   ]
  },
  {
   "cell_type": "markdown",
   "metadata": {
    "id": "Jb8yHS_EfpWl"
   },
   "source": [
    "## Matplotlib: Histogram of IMDB scores"
   ]
  },
  {
   "cell_type": "code",
   "execution_count": null,
   "metadata": {
    "id": "UtXD8PcKfpWm",
    "outputId": "b4d4a34c-5b04-4077-d474-38c2e6499e77"
   },
   "outputs": [],
   "source": [
    "fig = plt.figure(figsize=(15,8))\n",
    "plt.hist(cleaned_data[\"imdb_score\"], bins=20)\n",
    "plt.show()"
   ]
  },
  {
   "cell_type": "markdown",
   "metadata": {
    "id": "OY34G8NyfpWm"
   },
   "source": [
    "## Pandas : Barplot of the gross earnings of the 10 movies with highest budget superimposed with their budget as a line graph"
   ]
  },
  {
   "cell_type": "code",
   "execution_count": null,
   "metadata": {
    "id": "g9QMv5qNfpWm",
    "outputId": "28873da7-9b28-47fe-9a1b-acd88df9b7ca"
   },
   "outputs": [],
   "source": [
    "top_budget = cleaned_data.sort_values(by=\"budget\", ascending=False)[\"movie_title\"][:10].tolist()\n",
    "top_budget_data = cleaned_data[cleaned_data[\"movie_title\"].isin(top_budget)]\n",
    "\n",
    "ax1 = top_budget_data.plot(x=\"movie_title\", y=\"gross\", kind=\"bar\", figsize=(15,8))\n",
    "ax2 = ax1.twinx()\n",
    "top_budget_data.plot(x=\"movie_title\", y=\"budget\", kind=\"line\", \n",
    "                     color='red', figsize=(15,8), ax=ax2)\n",
    "ax1.legend(loc='upper left')\n",
    "ax2.legend(loc='upper right')\n",
    "plt.show()"
   ]
  },
  {
   "cell_type": "markdown",
   "metadata": {
    "id": "iMSqC2RZfpWm"
   },
   "source": [
    "## Plot the histograms of imdb_scores according to different content rating Types  \n",
    "We're finding out which content type tends to have the higher imdb_score."
   ]
  },
  {
   "cell_type": "code",
   "execution_count": null,
   "metadata": {
    "id": "Ex7Eg9ZUfpWm",
    "outputId": "f70231e1-faa8-4907-c025-e800898a404b"
   },
   "outputs": [],
   "source": [
    "import seaborn as sns\n",
    "\n",
    "ax = sns.distplot(cleaned_data[cleaned_data['content_rating'] == 'PG-13'][\"imdb_score\"], \n",
    "                  color='red')\n",
    "sns.distplot(cleaned_data[cleaned_data['content_rating'] == 'R'][\"imdb_score\"], \n",
    "             color='teal', ax=ax)\n",
    "sns.distplot(cleaned_data[cleaned_data['content_rating'] == 'GP'][\"imdb_score\"], \n",
    "             color='blue', ax=ax)"
   ]
  },
  {
   "cell_type": "code",
   "execution_count": null,
   "metadata": {
    "id": "AOcASqLgfpWn",
    "outputId": "12220726-b711-422f-915c-fdf45ce59d8d"
   },
   "outputs": [],
   "source": [
    "from pandas.plotting import scatter_matrix\n",
    "cols = [\"num_critic_for_reviews\", \"imdb_score\", \"movie_facebook_likes\"]\n",
    "scatter_matrix(cleaned_data[cols], alpha=0.2, figsize=(20, 20), \n",
    "               diagonal='kde', marker='o')\n",
    "plt.show()"
   ]
  },
  {
   "cell_type": "code",
   "execution_count": null,
   "metadata": {
    "id": "U3R-iJQ8fpWn",
    "outputId": "c4c3d695-85df-4aa2-85da-8d931bcf8eeb"
   },
   "outputs": [],
   "source": [
    "from pandas.plotting import scatter_matrix\n",
    "cols = [\"num_critic_for_reviews\", \"duration\", \"facenumber_in_poster\", \n",
    "        \"num_user_for_reviews\", \"budget\", \"imdb_score\", \"movie_facebook_likes\", \"gross\"]\n",
    "scatter_matrix(cleaned_data[cols], alpha=0.2, figsize=(20, 20), \n",
    "               diagonal='kde', marker='o')\n",
    "plt.show()"
   ]
  },
  {
   "cell_type": "markdown",
   "metadata": {
    "id": "o57s6kyqfpWn"
   },
   "source": [
    "## Seaborn : Conditional Formatting\n",
    "For more, check out: https://pandas.pydata.org/pandas-docs/stable/style.html"
   ]
  },
  {
   "cell_type": "code",
   "execution_count": null,
   "metadata": {
    "id": "t-WZ_wvifpWn",
    "outputId": "6603675d-5b0c-451c-8ec2-7b8cd332c9cc"
   },
   "outputs": [],
   "source": [
    "import seaborn as sns\n",
    "\n",
    "cm = sns.light_palette(\"green\", as_cmap=True)\n",
    "cols = [\"movie_title\", \"imdb_score\",\"gross\"]\n",
    "color_me = cleaned_data[cols][:10]\n",
    "s = color_me.style.background_gradient(cmap=cm)\n",
    "s"
   ]
  },
  {
   "cell_type": "markdown",
   "metadata": {
    "id": "ad_DRWZZfpWo"
   },
   "source": [
    "## Advanced Graphs: Plotting more than 2 variables\n",
    "\n",
    "Let's take this slowly."
   ]
  },
  {
   "cell_type": "code",
   "execution_count": null,
   "metadata": {
    "id": "Jzv7Dg8dfpWo",
    "outputId": "8814d52d-7120-43e6-98df-27d451ad1b94",
    "scrolled": false
   },
   "outputs": [],
   "source": [
    "plt.figure(figsize=(15,8))\n",
    "sizes = 1000*((cleaned_data[\"gross\"] - min(cleaned_data[\"gross\"])) \n",
    "              / max(cleaned_data[\"gross\"] ) - min(cleaned_data[\"gross\"] ))\n",
    "colors = np.where(cleaned_data.genres.str.contains(\"Fantasy\"), 'red', 'green')\n",
    "plt.scatter(x=cleaned_data[\"movie_facebook_likes\"], \n",
    "            y=cleaned_data[\"imdb_score\"], c=colors,\n",
    "            s = sizes)\n",
    "\n",
    "plt.xlabel(\"Facebook Likes\")\n",
    "plt.ylabel(\"IMDB Score\")\n",
    "plt.xlim((0,100000))\n",
    "plt.show()"
   ]
  },
  {
   "cell_type": "markdown",
   "metadata": {
    "id": "p-llEKTjfpWp"
   },
   "source": [
    "## Seaborn : Line Plot with Regression : Voted users and reviews"
   ]
  },
  {
   "cell_type": "code",
   "execution_count": null,
   "metadata": {
    "id": "gsQNUgQ4fpWp",
    "outputId": "1ad2be69-e605-420a-acd6-ae30800b6686"
   },
   "outputs": [],
   "source": [
    "sns.lmplot(x=\"num_voted_users\", \n",
    "           y=\"num_user_for_reviews\",\n",
    "           data=cleaned_data, size=8)"
   ]
  },
  {
   "cell_type": "code",
   "execution_count": null,
   "metadata": {
    "id": "9dZvoeSRfpWp",
    "outputId": "1b0d080b-4b60-4faf-97ba-1b31a45d5223"
   },
   "outputs": [],
   "source": [
    "sns.jointplot(x=\"num_voted_users\", y=\"num_user_for_reviews\", data=cleaned_data, size=8,\n",
    "             kind=\"hex\", color=\"#4CB391\")"
   ]
  },
  {
   "cell_type": "markdown",
   "metadata": {},
   "source": [
    "# Additional Excercises and Challenges"
   ]
  },
  {
   "cell_type": "markdown",
   "metadata": {
    "id": "YkIG9U-dfpWq"
   },
   "source": [
    "## Challenge! Fix the above plot by clipping by the Tukey's Test (k=1):\n",
    "Use the np.clip function to bound the results as the following interval:\n",
    "$$\n",
    "{\\big [}Q_{1}-k(Q_{3}-Q_{1}),Q_{3}+k(Q_{3}-Q_{1}){\\big ]}\n",
    "$$"
   ]
  },
  {
   "cell_type": "code",
   "execution_count": null,
   "metadata": {
    "id": "FhHQo1hFfpWq",
    "scrolled": true
   },
   "outputs": [],
   "source": []
  },
  {
   "cell_type": "markdown",
   "metadata": {
    "id": "oiiivp6YfpWq"
   },
   "source": [
    "## Seaborn : Barplot of the gross earnings of the last 10 years"
   ]
  },
  {
   "cell_type": "code",
   "execution_count": null,
   "metadata": {
    "id": "adW8F74IfpWq"
   },
   "outputs": [],
   "source": [
    "cleaned_data[\"title_year\"] = cleaned_data[\"title_year\"].astype(np.int64)\n",
    "latest_10_years = np.sort(cleaned_data[\"title_year\"].unique())[-10:]\n",
    "\n",
    "latest_movies_data=cleaned_data[cleaned_data[\"title_year\"].isin(latest_10_years)]\n",
    "plt.figure(figsize=(15,4))\n",
    "sns.barplot(x=\"title_year\", y=\"gross\", data=latest_movies_data)\n",
    "plt.xticks(rotation=45)\n",
    "plt.show()"
   ]
  },
  {
   "cell_type": "markdown",
   "metadata": {
    "id": "jVgsPU5HfpWq"
   },
   "source": [
    "## Challenge : Get the top 10 directors with most movies directed and use a boxplot for their gross earnings"
   ]
  },
  {
   "cell_type": "code",
   "execution_count": null,
   "metadata": {
    "id": "H-tXYz2jfpWq"
   },
   "outputs": [],
   "source": []
  },
  {
   "cell_type": "markdown",
   "metadata": {
    "id": "H8idqNpgfpWr"
   },
   "source": [
    "# Additional Activities"
   ]
  },
  {
   "cell_type": "markdown",
   "metadata": {
    "id": "5wkg-lo6fpWr"
   },
   "source": [
    "## Plot the following variables in one graph:\n",
    "\n",
    "- num_critic_for_reviews\n",
    "- IMDB score\n",
    "- gross\n",
    "- Steven Spielberg against others"
   ]
  },
  {
   "cell_type": "code",
   "execution_count": null,
   "metadata": {
    "id": "WnjSn_dMfpWr"
   },
   "outputs": [],
   "source": []
  },
  {
   "cell_type": "markdown",
   "metadata": {
    "id": "YurvyLgGfpWs"
   },
   "source": [
    "## Compute Sales (Gross - Budget), add it as another column"
   ]
  },
  {
   "cell_type": "code",
   "execution_count": null,
   "metadata": {
    "id": "7ef1Ip55fpWs"
   },
   "outputs": [],
   "source": []
  },
  {
   "cell_type": "markdown",
   "metadata": {
    "id": "wVskkTmKfpWs"
   },
   "source": [
    "## Which directors garnered the most total sales?"
   ]
  },
  {
   "cell_type": "code",
   "execution_count": null,
   "metadata": {
    "id": "9MwJjBSSfpWs"
   },
   "outputs": [],
   "source": []
  },
  {
   "cell_type": "markdown",
   "metadata": {
    "id": "F83IKrqdfpWt"
   },
   "source": [
    "## Which actors garnered the most total sales?"
   ]
  },
  {
   "cell_type": "code",
   "execution_count": null,
   "metadata": {
    "id": "AqdgI1IBfpWt",
    "scrolled": true
   },
   "outputs": [],
   "source": []
  },
  {
   "cell_type": "markdown",
   "metadata": {
    "id": "DRcrepdYfpWt"
   },
   "source": [
    "## Plot sales and average likes as a scatterplot. Fit it with a line."
   ]
  },
  {
   "cell_type": "code",
   "execution_count": null,
   "metadata": {
    "id": "jcWRHUj4fpWt"
   },
   "outputs": [],
   "source": []
  },
  {
   "cell_type": "markdown",
   "metadata": {
    "id": "jzGU5gnafpWt"
   },
   "source": [
    "## Which of these genres are the most profitable? Plot their sales using different histograms, superimposed in the same axis.\n",
    "\n",
    "- Romance\n",
    "- Comedy\n",
    "- Action\n",
    "- Fantasy"
   ]
  },
  {
   "cell_type": "code",
   "execution_count": null,
   "metadata": {
    "id": "BMY0OoKUfpWt"
   },
   "outputs": [],
   "source": []
  },
  {
   "cell_type": "markdown",
   "metadata": {
    "id": "Y295g6BPfpWu"
   },
   "source": [
    "## Standardization\n",
    "Standardize sales using the following formula then save it to a new column.\n",
    "\n",
    "$$\n",
    "Z={X-\\operatorname {E} [X] \\over \\sigma (X)}\n",
    "$$\n",
    "\n",
    "The first values should be: [2.612646, 0.026695, -0.246587, 0.975996, -0.020609]"
   ]
  },
  {
   "cell_type": "code",
   "execution_count": null,
   "metadata": {
    "id": "d-baJu_DfpWu"
   },
   "outputs": [],
   "source": []
  },
  {
   "cell_type": "markdown",
   "metadata": {
    "id": "S1eZSDOxfpWu"
   },
   "source": [
    "## For each of movie, compute average likes of the three actors and store it as a new variable. Standardize. Read up on the mean function.\n",
    "\n",
    "Store it as a new column, average_actor_likes."
   ]
  },
  {
   "cell_type": "code",
   "execution_count": null,
   "metadata": {
    "id": "0HembbTrfpWu",
    "scrolled": true
   },
   "outputs": [],
   "source": []
  },
  {
   "cell_type": "markdown",
   "metadata": {
    "id": "REXp3RB8fpWu"
   },
   "source": [
    "## Create a linear hypothesis function\n",
    "\n",
    "Create a function that takes (1) a scalar, (2) theta and (3) a bias variable to output a value as close as possible to gross.\n",
    "\n",
    "$$\n",
    "score = b + \\sum_j{(\\theta_j * x)}\n",
    "$$\n",
    "\n",
    "$$\n",
    "score = \\theta_1 * average\\_actor\\_likes + bias\n",
    "$$"
   ]
  },
  {
   "cell_type": "code",
   "execution_count": null,
   "metadata": {
    "id": "kzUmrdGMfpWv"
   },
   "outputs": [],
   "source": []
  },
  {
   "cell_type": "markdown",
   "metadata": {
    "id": "Yxhpwj1EfpWv"
   },
   "source": [
    "## Create an RMSE function\n",
    "Create a function that compares two vectors and outputs the root mean squared error / deviation.\n",
    "\n",
    "$$\n",
    "\\operatorname{RMSD}(\\hat{\\theta}) = \\sqrt{\\operatorname{MSE}(\\hat{\\theta})} = \\sqrt{\\operatorname{E}((\\hat{\\theta}-\\theta)^2)}\n",
    "$$"
   ]
  },
  {
   "cell_type": "code",
   "execution_count": null,
   "metadata": {
    "id": "LNtXoCeefpWv"
   },
   "outputs": [],
   "source": []
  },
  {
   "cell_type": "markdown",
   "metadata": {
    "id": "3u_xwzp-fpWv"
   },
   "source": [
    "## Create the best possible thetas by brute-forcing against the RMSE function.\n",
    "\n",
    "Create predictions for your entire dataset. Compare your predictions against the score. Achieve the smallest RMSE you can."
   ]
  },
  {
   "cell_type": "code",
   "execution_count": null,
   "metadata": {
    "id": "gnDkxXKZfpWv"
   },
   "outputs": [],
   "source": []
  },
  {
   "cell_type": "markdown",
   "metadata": {
    "id": "2MKgMVFYfpWv"
   },
   "source": [
    "## Plot your best theta, bias variable against the imdb score for each movie\n",
    "\n",
    "For a cleaner plot:\n",
    "\n",
    "(1) compile your average_actor_likes, imdb_scores and predicted to a new dataframe\n",
    "\n",
    "(2) limit the bounds of your predicted ratings"
   ]
  },
  {
   "cell_type": "code",
   "execution_count": null,
   "metadata": {
    "id": "FUcM3KmDfpWv",
    "scrolled": true
   },
   "outputs": [],
   "source": []
  },
  {
   "cell_type": "code",
   "execution_count": null,
   "metadata": {
    "id": "WSli8iCAfpWw"
   },
   "outputs": [],
   "source": []
  },
  {
   "cell_type": "markdown",
   "metadata": {
    "id": "6Khd21unfpWw"
   },
   "source": [
    "## Convert your hypothesis function to use more variables:\n",
    "\n",
    "Don't forget to standardize your new variables.\n",
    "\n",
    "$$\n",
    "score = \\theta_1 * average\\_actor\\_likes + \\theta_2 * movie\\_facebook\\_likes + \\theta_3 * sales + bias\n",
    "$$"
   ]
  },
  {
   "cell_type": "code",
   "execution_count": null,
   "metadata": {
    "id": "QfITMPS3fpWw"
   },
   "outputs": [],
   "source": []
  },
  {
   "cell_type": "code",
   "execution_count": null,
   "metadata": {
    "id": "-FjSpw3CfpWw"
   },
   "outputs": [],
   "source": []
  },
  {
   "cell_type": "markdown",
   "metadata": {
    "id": "6OTURmyIfpWw"
   },
   "source": [
    "## Compile your theta values to a new pandas dataframe which consists of the following columns:\n",
    "\n",
    "<table>\n",
    "<th> $\\theta_1$ </th> \n",
    "<th> $\\theta_2$ </th>\n",
    "<th> $\\theta_3$ </th>\n",
    "<th> $RMSE$ </th>\n",
    "\n",
    "<tr>\n",
    "<td>0.1</td><td>0.1</td><td>0.1</td><td>10000</td>\n",
    "</tr>\n",
    "\n",
    "<tr>\n",
    "<td>0.2</td><td>0.2</td><td>0.2</td><td>2000</td>\n",
    "</tr>\n",
    "\n",
    "</table>\n"
   ]
  },
  {
   "cell_type": "code",
   "execution_count": null,
   "metadata": {
    "id": "81_as-NefpWw"
   },
   "outputs": [],
   "source": []
  },
  {
   "cell_type": "markdown",
   "metadata": {
    "id": "-gUr7dqjfpWw"
   },
   "source": [
    "## Plot how each theta parameter influence the RMSE. Which one seems to be most influential?"
   ]
  },
  {
   "cell_type": "code",
   "execution_count": null,
   "metadata": {
    "id": "QrE7NAcbfpWx"
   },
   "outputs": [],
   "source": []
  },
  {
   "cell_type": "markdown",
   "metadata": {
    "id": "jgkxmaL0fpWx"
   },
   "source": [
    "# Advanced Activities"
   ]
  },
  {
   "cell_type": "markdown",
   "metadata": {
    "id": "OnjJbMP7fpWx"
   },
   "source": [
    "## Using Linear Regression (Ridge)\n",
    "Find the best coefficients using Ridge regression"
   ]
  },
  {
   "cell_type": "code",
   "execution_count": null,
   "metadata": {
    "id": "Lh30OQEPfpWx"
   },
   "outputs": [],
   "source": []
  }
 ],
 "metadata": {
  "colab": {
   "name": "Python and Data Engineering Exercises.ipynb",
   "provenance": []
  },
  "kernelspec": {
   "display_name": "Python 3 (ipykernel)",
   "language": "python",
   "name": "python3"
  },
  "language_info": {
   "codemirror_mode": {
    "name": "ipython",
    "version": 3
   },
   "file_extension": ".py",
   "mimetype": "text/x-python",
   "name": "python",
   "nbconvert_exporter": "python",
   "pygments_lexer": "ipython3",
   "version": "3.8.5"
  }
 },
 "nbformat": 4,
 "nbformat_minor": 1
}
